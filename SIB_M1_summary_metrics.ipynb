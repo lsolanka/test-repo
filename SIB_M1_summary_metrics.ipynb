{
 "cells": [
  {
   "cell_type": "code",
   "execution_count": 2,
   "metadata": {},
   "outputs": [
    {
     "name": "stdout",
     "output_type": "stream",
     "text": [
      "rows: 4 columns: 19\n",
      "column names\n"
     ]
    },
    {
     "data": {
      "text/plain": [
       "Index(['Gender', 'Age', 'Height', 'Weight'], dtype='object')"
      ]
     },
     "execution_count": 2,
     "metadata": {},
     "output_type": "execute_result"
    }
   ],
   "source": [
    "import pandas as pd \n",
    "\n",
    "df=pd.read_table(\"data_files/class.tsv\")\n",
    "numberCols, numberRows = df.shape\n",
    "print('rows:', numberRows, 'columns:', numberCols)\n",
    "print('column names')\n",
    "df.columns"
   ]
  },
  {
   "cell_type": "code",
   "execution_count": 3,
   "metadata": {},
   "outputs": [
    {
     "name": "stdout",
     "output_type": "stream",
     "text": [
      "             Age      Height     Weight\n",
      "count  19.000000   19.000000  19.000000\n",
      "mean   13.315789  158.335579  45.371937\n",
      "std     1.492672   13.022771  10.330256\n",
      "min    11.000000  130.302000  22.906800\n",
      "25%    12.000000  147.955000  38.215800\n",
      "50%    13.000000  159.512000  45.133200\n",
      "75%    14.500000  167.386000  50.916600\n",
      "max    16.000000  182.880000  68.040000\n"
     ]
    }
   ],
   "source": [
    "# to get an overview of what is in your df check out df.describe()\n",
    "print(df.describe())"
   ]
  },
  {
   "cell_type": "code",
   "execution_count": 4,
   "metadata": {},
   "outputs": [
    {
     "data": {
      "text/plain": [
       "0     11\n",
       "1     11\n",
       "2     12\n",
       "3     12\n",
       "4     12\n",
       "5     12\n",
       "6     12\n",
       "7     13\n",
       "8     13\n",
       "9     13\n",
       "10    14\n",
       "11    14\n",
       "12    14\n",
       "13    14\n",
       "14    15\n",
       "15    15\n",
       "16    15\n",
       "17    15\n",
       "18    16\n",
       "Name: Age, dtype: int64"
      ]
     },
     "execution_count": 4,
     "metadata": {},
     "output_type": "execute_result"
    }
   ],
   "source": [
    "# select a single column, eg, Age\n",
    "df['Age']"
   ]
  },
  {
   "cell_type": "code",
   "execution_count": 5,
   "metadata": {},
   "outputs": [
    {
     "data": {
      "text/plain": [
       "count    19.000000\n",
       "mean     13.315789\n",
       "std       1.492672\n",
       "min      11.000000\n",
       "25%      12.000000\n",
       "50%      13.000000\n",
       "75%      14.500000\n",
       "max      16.000000\n",
       "Name: Age, dtype: float64"
      ]
     },
     "execution_count": 5,
     "metadata": {},
     "output_type": "execute_result"
    }
   ],
   "source": [
    "# to get the stats on a single column type\n",
    "df['Age'].describe()"
   ]
  },
  {
   "cell_type": "code",
   "execution_count": 6,
   "metadata": {},
   "outputs": [
    {
     "data": {
      "text/plain": [
       "count    296.000000\n",
       "mean       1.059122\n",
       "std        1.166474\n",
       "min        0.000000\n",
       "25%        0.000000\n",
       "50%        0.800000\n",
       "75%        1.650000\n",
       "max        6.200000\n",
       "Name: oldpeak, dtype: float64"
      ]
     },
     "execution_count": 6,
     "metadata": {},
     "output_type": "execute_result"
    }
   ],
   "source": [
    "df_heart=pd.read_table(\"data_files/heartData_simplified.csv\", sep=\",\", header=0)\n",
    "df_heart['oldpeak'].describe()"
   ]
  },
  {
   "cell_type": "code",
   "execution_count": 7,
   "metadata": {},
   "outputs": [
    {
     "data": {
      "text/plain": [
       "Gender\n",
       "M    10\n",
       "F     9\n",
       "Name: count, dtype: int64"
      ]
     },
     "execution_count": 7,
     "metadata": {},
     "output_type": "execute_result"
    }
   ],
   "source": [
    "# to get information on categorial data check out the counts\n",
    "df['Gender'].value_counts()"
   ]
  },
  {
   "cell_type": "code",
   "execution_count": 8,
   "metadata": {},
   "outputs": [
    {
     "data": {
      "text/plain": [
       "sex\n",
       "male      201\n",
       "female     95\n",
       "Name: count, dtype: int64"
      ]
     },
     "execution_count": 8,
     "metadata": {},
     "output_type": "execute_result"
    }
   ],
   "source": [
    "df_heart['sex'].value_counts()"
   ]
  },
  {
   "cell_type": "code",
   "execution_count": 11,
   "metadata": {},
   "outputs": [
    {
     "name": "stdout",
     "output_type": "stream",
     "text": [
      "row 0 , age 11\n",
      "row 1 , age 11\n",
      "row 2 , age 12\n",
      "row 3 , age 12\n",
      "row 4 , age 12\n",
      "row 5 , age 12\n",
      "row 6 , age 12\n",
      "row 7 , age 13\n",
      "row 8 , age 13\n",
      "row 9 , age 13\n",
      "row 10 , age 14\n",
      "row 11 , age 14\n",
      "row 12 , age 14\n",
      "row 13 , age 14\n",
      "row 14 , age 15\n",
      "row 15 , age 15\n",
      "row 16 , age 15\n",
      "row 17 , age 15\n",
      "row 18 , age 16\n"
     ]
    }
   ],
   "source": [
    "i=0\n",
    "for age in df['Age']:\n",
    "    print(\"row\",i,\", age\", age)\n",
    "    i+=1"
   ]
  },
  {
   "cell_type": "code",
   "execution_count": 15,
   "metadata": {},
   "outputs": [
    {
     "name": "stdout",
     "output_type": "stream",
     "text": [
      "        count       mean       std   min   25%   50%    75%   max\n",
      "Gender                                                           \n",
      "F         9.0  13.222222  1.394433  11.0  12.0  13.0  14.00  15.0\n",
      "M        10.0  13.400000  1.646545  11.0  12.0  13.5  14.75  16.0\n",
      "Gender\n",
      "F    153.895778\n",
      "M    162.331400\n",
      "Name: Height, dtype: float64\n"
     ]
    }
   ],
   "source": [
    "groupedDF=df.groupby('Gender')\n",
    "print(groupedDF['Age'].describe())\n",
    "\n",
    "print(groupedDF['Height'].mean())"
   ]
  },
  {
   "cell_type": "code",
   "execution_count": 16,
   "metadata": {},
   "outputs": [
    {
     "name": "stdout",
     "output_type": "stream",
     "text": [
      "        count        mean        std   min    25%    50%    75%    max\n",
      "sex                                                                   \n",
      "female   95.0  151.505263  19.803220  96.0  142.0  157.0  165.0  192.0\n",
      "male    201.0  148.641791  24.317299  71.0  132.0  150.0  166.0  202.0\n"
     ]
    }
   ],
   "source": [
    "groupDF=df_heart.groupby('sex')\n",
    "print(groupDF['thalach'].describe())"
   ]
  },
  {
   "cell_type": "code",
   "execution_count": 18,
   "metadata": {},
   "outputs": [
    {
     "name": "stdout",
     "output_type": "stream",
     "text": [
      "sex     target\n",
      "female  no         71\n",
      "        yes        24\n",
      "male    yes       112\n",
      "        no         89\n",
      "Name: count, dtype: int64\n"
     ]
    }
   ],
   "source": [
    "print(groupDF['target'].value_counts())"
   ]
  }
 ],
 "metadata": {
  "kernelspec": {
   "display_name": "Python 3",
   "language": "python",
   "name": "python3"
  },
  "language_info": {
   "codemirror_mode": {
    "name": "ipython",
    "version": 3
   },
   "file_extension": ".py",
   "mimetype": "text/x-python",
   "name": "python",
   "nbconvert_exporter": "python",
   "pygments_lexer": "ipython3",
   "version": "3.12.0"
  }
 },
 "nbformat": 4,
 "nbformat_minor": 2
}
