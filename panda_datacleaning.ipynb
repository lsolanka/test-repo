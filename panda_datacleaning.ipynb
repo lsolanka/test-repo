{
 "cells": [
  {
   "cell_type": "code",
   "execution_count": 1,
   "metadata": {},
   "outputs": [
    {
     "name": "stdout",
     "output_type": "stream",
     "text": [
      "[0]\n",
      "[0, 9]\n",
      "[0, 9, 36]\n"
     ]
    }
   ],
   "source": [
    "a = 2\n",
    "L=[]\n",
    "for i in range (a*4):\n",
    "    if i%3==0:\n",
    "        L.append(i**2)\n",
    "        print(L)"
   ]
  },
  {
   "cell_type": "markdown",
   "metadata": {},
   "source": [
    "Import Data with pandas"
   ]
  },
  {
   "cell_type": "code",
   "execution_count": 5,
   "metadata": {},
   "outputs": [
    {
     "name": "stdout",
     "output_type": "stream",
     "text": [
      "  Gender  Age   Height   Weight\n",
      "0      F   11  130.302  22.9068\n",
      "1      M   11  146.050  38.5560\n",
      "2      M   12  145.542  37.6488\n",
      "3      F   12  151.892  38.3292\n",
      "4      M   12  149.860  45.1332\n"
     ]
    }
   ],
   "source": [
    "import pandas as pd\n",
    "df = pd.read_table(\"data_files/class.tsv\")\n",
    "print(df.head())"
   ]
  },
  {
   "cell_type": "code",
   "execution_count": 8,
   "metadata": {},
   "outputs": [
    {
     "name": "stdout",
     "output_type": "stream",
     "text": [
      "  diet genotype  weight\n",
      "0  HFD       WT    31.2\n",
      "1  HFD       WT    32.1\n",
      "2  HFD       WT    30.3\n",
      "3  HFD       WT    45.0\n",
      "4  HFD       WT    39.2\n"
     ]
    }
   ],
   "source": [
    "# to read comma separated files add the sep argument \",\" . \n",
    "# If you have column names in the first row you can indicate this by adding header=0\n",
    "# if you have an index (row names) then add index_col=0\n",
    "data = pd.read_table(\"data_files/mice_data.csv\", sep=\",\", header=0)\n",
    "print(data.head())"
   ]
  },
  {
   "cell_type": "code",
   "execution_count": 12,
   "metadata": {},
   "outputs": [
    {
     "name": "stdout",
     "output_type": "stream",
     "text": [
      "   age     sex  chol  thalach  oldpeak  ca    thal target\n",
      "0   63    male   233      150      2.3   0  defect     no\n",
      "1   37    male   250      187      3.5   0  normal     no\n",
      "2   41  female   204      172      1.4   0  normal     no\n",
      "3   56    male   236      178      0.8   0  normal     no\n",
      "4   57  female   354      163      0.6   0  normal     no\n"
     ]
    }
   ],
   "source": [
    "df_heart = pd.read_table(\"data_files/heartData_simplified.csv\", header=0, sep=\",\")\n",
    "print(df_heart.head())"
   ]
  },
  {
   "cell_type": "code",
   "execution_count": 15,
   "metadata": {},
   "outputs": [
    {
     "name": "stdout",
     "output_type": "stream",
     "text": [
      "(296, 8)\n",
      "Index(['Gender', 'Age', 'Height', 'Weight'], dtype='object')\n",
      "Gender     object\n",
      "Age         int64\n",
      "Height    float64\n",
      "Weight    float64\n",
      "dtype: object\n"
     ]
    }
   ],
   "source": [
    "print(df_heart.shape)\n",
    "print(df.columns)\n",
    "print(df.dtypes)"
   ]
  },
  {
   "cell_type": "code",
   "execution_count": 16,
   "metadata": {},
   "outputs": [
    {
     "name": "stdout",
     "output_type": "stream",
     "text": [
      "(296, 8)\n",
      "age          int64\n",
      "sex         object\n",
      "chol         int64\n",
      "thalach      int64\n",
      "oldpeak    float64\n",
      "ca           int64\n",
      "thal        object\n",
      "target      object\n",
      "dtype: object\n"
     ]
    }
   ],
   "source": [
    "print(df_heart.shape)\n",
    "print(df_heart.dtypes)"
   ]
  },
  {
   "cell_type": "code",
   "execution_count": 17,
   "metadata": {},
   "outputs": [
    {
     "name": "stdout",
     "output_type": "stream",
     "text": [
      "rows: 296 columns: 8\n",
      "column names\n",
      "age          int64\n",
      "sex         object\n",
      "chol         int64\n",
      "thalach      int64\n",
      "oldpeak    float64\n",
      "ca           int64\n",
      "thal        object\n",
      "target      object\n",
      "dtype: object\n"
     ]
    }
   ],
   "source": [
    "numberRows, numberCols = df_heart.shape\n",
    "print('rows:', numberRows, 'columns:', numberCols)\n",
    "print('column names')\n",
    "print(df_heart.dtypes)"
   ]
  }
 ],
 "metadata": {
  "kernelspec": {
   "display_name": "Python 3",
   "language": "python",
   "name": "python3"
  },
  "language_info": {
   "codemirror_mode": {
    "name": "ipython",
    "version": 3
   },
   "file_extension": ".py",
   "mimetype": "text/x-python",
   "name": "python",
   "nbconvert_exporter": "python",
   "pygments_lexer": "ipython3",
   "version": "3.12.0"
  }
 },
 "nbformat": 4,
 "nbformat_minor": 2
}
