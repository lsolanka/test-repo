{
 "cells": [
  {
   "cell_type": "code",
   "execution_count": 1,
   "metadata": {},
   "outputs": [
    {
     "name": "stdout",
     "output_type": "stream",
     "text": [
      "  Gender  Age   Height   Weight\n",
      "0      F   11  130.302  22.9068\n",
      "1      M   11  146.050  38.5560\n",
      "2      M   12  145.542  37.6488\n",
      "3      F   12  151.892  38.3292\n",
      "4      M   12  149.860  45.1332\n"
     ]
    }
   ],
   "source": [
    "import pandas as pd\n",
    "\n",
    "df=pd.read_table(\"data_files/class.tsv\")\n",
    "print(df.head())"
   ]
  },
  {
   "cell_type": "code",
   "execution_count": 2,
   "metadata": {},
   "outputs": [
    {
     "data": {
      "text/plain": [
       "0     22.9068\n",
       "1     38.5560\n",
       "2     37.6488\n",
       "3     38.3292\n",
       "4     45.1332\n",
       "5     34.9272\n",
       "6     58.0608\n",
       "7     38.1024\n",
       "8     44.4528\n",
       "9     38.1024\n",
       "10    46.4940\n",
       "11    46.4940\n",
       "12    51.0300\n",
       "13    40.8240\n",
       "14    51.0300\n",
       "15    50.8032\n",
       "16    60.3288\n",
       "17    50.8032\n",
       "18    68.0400\n",
       "Name: Weight, dtype: float64"
      ]
     },
     "execution_count": 2,
     "metadata": {},
     "output_type": "execute_result"
    }
   ],
   "source": [
    "# select specific column\n",
    "df['Weight']"
   ]
  },
  {
   "cell_type": "code",
   "execution_count": 3,
   "metadata": {},
   "outputs": [
    {
     "name": "stdout",
     "output_type": "stream",
     "text": [
      "  Gender  Age   Height   Weight\n",
      "0      F   11  130.302  22.9068\n",
      "1      M   11  146.050  38.5560\n",
      "2      M   12  145.542  37.6488\n",
      "3      F   12  151.892  38.3292\n"
     ]
    }
   ],
   "source": [
    "# select rows first 4 rows and all columns\n",
    "print(df.loc[0:3,:])"
   ]
  },
  {
   "cell_type": "code",
   "execution_count": 4,
   "metadata": {},
   "outputs": [
    {
     "name": "stdout",
     "output_type": "stream",
     "text": [
      "  Gender   Height\n",
      "0      F  130.302\n",
      "1      M  146.050\n",
      "2      M  145.542\n",
      "3      F  151.892\n",
      "4      M  149.860\n",
      "5      F  143.002\n"
     ]
    }
   ],
   "source": [
    "# print first 6 rows and the columns gender and height\n",
    "print(df.loc[0:5,['Gender', 'Height']])"
   ]
  },
  {
   "cell_type": "code",
   "execution_count": 5,
   "metadata": {},
   "outputs": [
    {
     "data": {
      "text/html": [
       "<div>\n",
       "<style scoped>\n",
       "    .dataframe tbody tr th:only-of-type {\n",
       "        vertical-align: middle;\n",
       "    }\n",
       "\n",
       "    .dataframe tbody tr th {\n",
       "        vertical-align: top;\n",
       "    }\n",
       "\n",
       "    .dataframe thead th {\n",
       "        text-align: right;\n",
       "    }\n",
       "</style>\n",
       "<table border=\"1\" class=\"dataframe\">\n",
       "  <thead>\n",
       "    <tr style=\"text-align: right;\">\n",
       "      <th></th>\n",
       "      <th>Gender</th>\n",
       "      <th>Age</th>\n",
       "    </tr>\n",
       "  </thead>\n",
       "  <tbody>\n",
       "    <tr>\n",
       "      <th>0</th>\n",
       "      <td>F</td>\n",
       "      <td>11</td>\n",
       "    </tr>\n",
       "    <tr>\n",
       "      <th>1</th>\n",
       "      <td>M</td>\n",
       "      <td>11</td>\n",
       "    </tr>\n",
       "  </tbody>\n",
       "</table>\n",
       "</div>"
      ],
      "text/plain": [
       "  Gender  Age\n",
       "0      F   11\n",
       "1      M   11"
      ]
     },
     "execution_count": 5,
     "metadata": {},
     "output_type": "execute_result"
    }
   ],
   "source": [
    "df.loc[0:1, ['Gender', 'Age']]"
   ]
  },
  {
   "cell_type": "code",
   "execution_count": 6,
   "metadata": {},
   "outputs": [
    {
     "name": "stdout",
     "output_type": "stream",
     "text": [
      "0     False\n",
      "1     False\n",
      "2     False\n",
      "3     False\n",
      "4     False\n",
      "5     False\n",
      "6     False\n",
      "7     False\n",
      "8     False\n",
      "9     False\n",
      "10    False\n",
      "11    False\n",
      "12    False\n",
      "13    False\n",
      "14     True\n",
      "15     True\n",
      "16     True\n",
      "17     True\n",
      "18     True\n",
      "Name: Age, dtype: bool\n",
      "Age\n",
      "False    14\n",
      "True      5\n",
      "Name: count, dtype: int64\n"
     ]
    }
   ],
   "source": [
    "# create a mask and select age above 14\n",
    "maskAge=df['Age']>14\n",
    "print(maskAge)\n",
    "print(maskAge.value_counts())"
   ]
  },
  {
   "cell_type": "code",
   "execution_count": 7,
   "metadata": {},
   "outputs": [
    {
     "data": {
      "text/html": [
       "<div>\n",
       "<style scoped>\n",
       "    .dataframe tbody tr th:only-of-type {\n",
       "        vertical-align: middle;\n",
       "    }\n",
       "\n",
       "    .dataframe tbody tr th {\n",
       "        vertical-align: top;\n",
       "    }\n",
       "\n",
       "    .dataframe thead th {\n",
       "        text-align: right;\n",
       "    }\n",
       "</style>\n",
       "<table border=\"1\" class=\"dataframe\">\n",
       "  <thead>\n",
       "    <tr style=\"text-align: right;\">\n",
       "      <th></th>\n",
       "      <th>Age</th>\n",
       "      <th>Height</th>\n",
       "      <th>Weight</th>\n",
       "    </tr>\n",
       "  </thead>\n",
       "  <tbody>\n",
       "    <tr>\n",
       "      <th>14</th>\n",
       "      <td>15</td>\n",
       "      <td>158.75</td>\n",
       "      <td>51.0300</td>\n",
       "    </tr>\n",
       "    <tr>\n",
       "      <th>15</th>\n",
       "      <td>15</td>\n",
       "      <td>168.91</td>\n",
       "      <td>50.8032</td>\n",
       "    </tr>\n",
       "    <tr>\n",
       "      <th>16</th>\n",
       "      <td>15</td>\n",
       "      <td>170.18</td>\n",
       "      <td>60.3288</td>\n",
       "    </tr>\n",
       "    <tr>\n",
       "      <th>17</th>\n",
       "      <td>15</td>\n",
       "      <td>168.91</td>\n",
       "      <td>50.8032</td>\n",
       "    </tr>\n",
       "    <tr>\n",
       "      <th>18</th>\n",
       "      <td>16</td>\n",
       "      <td>182.88</td>\n",
       "      <td>68.0400</td>\n",
       "    </tr>\n",
       "  </tbody>\n",
       "</table>\n",
       "</div>"
      ],
      "text/plain": [
       "    Age  Height   Weight\n",
       "14   15  158.75  51.0300\n",
       "15   15  168.91  50.8032\n",
       "16   15  170.18  60.3288\n",
       "17   15  168.91  50.8032\n",
       "18   16  182.88  68.0400"
      ]
     },
     "execution_count": 7,
     "metadata": {},
     "output_type": "execute_result"
    }
   ],
   "source": [
    "# apply mask to df\n",
    "df.loc[maskAge, ['Age', 'Height', 'Weight']]"
   ]
  },
  {
   "cell_type": "code",
   "execution_count": 8,
   "metadata": {},
   "outputs": [
    {
     "name": "stdout",
     "output_type": "stream",
     "text": [
      "   Gender  Age  Height   Weight\n",
      "14      F   15  158.75  51.0300\n",
      "15      F   15  168.91  50.8032\n"
     ]
    }
   ],
   "source": [
    "mask = (df['Age']>14) & (df['Gender']=='F')\n",
    "print(df.loc[mask,])"
   ]
  },
  {
   "cell_type": "code",
   "execution_count": 9,
   "metadata": {},
   "outputs": [
    {
     "name": "stdout",
     "output_type": "stream",
     "text": [
      "  Gender  Age   Height   Weight\n",
      "1      M   11  146.050  38.5560\n",
      "2      M   12  145.542  37.6488\n",
      "9      M   13  158.750  38.1024\n"
     ]
    }
   ],
   "source": [
    "mask2= (df['Gender']=='M') & (df['Weight']<40)\n",
    "print(df.loc[mask2,])"
   ]
  },
  {
   "cell_type": "code",
   "execution_count": 10,
   "metadata": {},
   "outputs": [
    {
     "name": "stdout",
     "output_type": "stream",
     "text": [
      "     age     sex  chol  thalach  oldpeak  ca        thal target\n",
      "5     57    male   192      148      0.4   0      defect     no\n",
      "8     52    male   199      162      0.5   0  reversible     no\n",
      "9     57    male   168      174      1.6   0      normal     no\n",
      "24    40    male   199      178      1.4   0  reversible     no\n",
      "27    51    male   175      123      0.6   0      normal     no\n",
      "29    53    male   197      152      1.2   0      normal     no\n",
      "30    41  female   198      168      0.0   1      normal     no\n",
      "31    65    male   177      140      0.4   0  reversible     no\n",
      "35    46  female   177      160      1.4   0      normal     no\n",
      "52    44  female   141      175      0.6   0      normal     no\n",
      "57    34    male   182      174      0.0   0      normal     no\n",
      "61    52    male   186      190      0.0   0      defect     no\n",
      "64    35  female   183      182      1.4   0      normal     no\n",
      "86    46    male   197      156      0.0   0  reversible     no\n",
      "92    45  female   160      138      0.0   0      normal     no\n",
      "100   63  female   195      179      0.0   2      normal     no\n",
      "102   50    male   196      163      0.0   0      normal     no\n",
      "109   57    male   126      173      0.2   1  reversible     no\n",
      "115   56    male   193      162      1.9   0  reversible     no\n",
      "122   39  female   199      179      0.0   0      normal     no\n",
      "126   52  female   196      169      0.1   0      normal     no\n",
      "134   60  female   178       96      0.0   0      normal     no\n",
      "142   76  female   197      116      1.1   0      normal     no\n",
      "147   42    male   180      150      0.0   0      normal     no\n",
      "149   71  female   149      125      1.6   0      normal     no\n",
      "153   58  female   197      131      0.6   0      normal     no\n",
      "155   35    male   192      174      0.0   0      normal     no\n",
      "159   41    male   157      182      0.0   0      normal     no\n",
      "170   40    male   167      114      2.0   0  reversible    yes\n",
      "173   43    male   177      120      2.5   0  reversible    yes\n",
      "184   41    male   172      158      0.0   0  reversible    yes\n",
      "187   54    male   188      113      1.4   1  reversible    yes\n",
      "189   60    male   185      155      3.0   0      normal    yes\n",
      "195   44    male   197      177      0.0   1      normal    yes\n",
      "199   62  female   164      145      6.2   3  reversible    yes\n",
      "203   49    male   188      139      2.0   3  reversible    yes\n",
      "204   59    male   177      162      0.0   1  reversible    yes\n",
      "220   70    male   174      125      2.6   0  reversible    yes\n",
      "222   35    male   198      130      1.6   0  reversible    yes\n",
      "239   56    male   184      105      2.1   1      defect    yes\n",
      "261   49    male   149      126      0.8   3      normal    yes\n",
      "273   61    male   166      125      3.6   1      normal    yes\n",
      "287   44    male   169      144      2.8   0      defect    yes\n",
      "288   63    male   187      144      4.0   2  reversible    yes\n",
      "289   63  female   197      136      0.0   0      normal    yes\n",
      "290   59    male   176       90      1.0   2      defect    yes\n",
      "293   68    male   193      141      3.4   2  reversible    yes\n",
      "294   57    male   131      115      1.2   1  reversible    yes\n",
      "chol\n",
      "False    248\n",
      "True      48\n",
      "Name: count, dtype: int64\n"
     ]
    }
   ],
   "source": [
    "df_heart=pd.read_table(\"data_files/heartData_simplified.csv\", sep=\",\", header=0)\n",
    "mask_heart=df_heart['chol']<200\n",
    "print(df_heart.loc[mask_heart,])\n",
    "print(mask_heart.value_counts())"
   ]
  },
  {
   "cell_type": "code",
   "execution_count": 11,
   "metadata": {},
   "outputs": [
    {
     "name": "stdout",
     "output_type": "stream",
     "text": [
      "mean age:\n",
      "51.979166666666664\n"
     ]
    }
   ],
   "source": [
    "# print mean of age from the previous mask\n",
    "print(\"mean age:\")\n",
    "print(df_heart.loc[mask_heart,'age'].mean())\n"
   ]
  },
  {
   "cell_type": "markdown",
   "metadata": {},
   "source": [
    "Many other statistical methods, such as PCA, work best when the data has been centered and scaled (meaning that we removed its mean and divided by its standard deviation)."
   ]
  },
  {
   "cell_type": "code",
   "execution_count": 12,
   "metadata": {},
   "outputs": [
    {
     "name": "stdout",
     "output_type": "stream",
     "text": [
      "              Heart_WT_1  Heart_WT_2  Heart_WT_3  Heart_WT_4  Heart_KO_1  \\\n",
      "gene_id                                                                    \n",
      "1415670_at     1214.4470   1182.4640   1206.2260   1196.0300   1174.6180   \n",
      "1415671_at     3490.0980   2882.7840   2650.0330   2934.8610   2723.9760   \n",
      "1415672_at     4510.3690   4292.0570   4071.0570   4275.2760   4127.9410   \n",
      "1415673_at      598.8334    385.0178    458.4872    514.2919    584.0671   \n",
      "1415674_a_at   1400.3250   1328.2950   1416.9230   1388.4180   1459.9560   \n",
      "\n",
      "              Heart_KO_2  Heart_KO_3  Heart_KO_4  \n",
      "gene_id                                           \n",
      "1415670_at     1184.4580    985.5503   1214.5400  \n",
      "1415671_at     2823.2600   2721.8840   2790.8340  \n",
      "1415672_at     4045.9900   4553.7360   4358.6350  \n",
      "1415673_at      544.3807    569.1154    323.8668  \n",
      "1415674_a_at   1462.9640   1237.2440   1797.9060  \n",
      "(349, 8)\n"
     ]
    }
   ],
   "source": [
    "dat=pd.read_table(\"data_files/GSE41558_series_matrix.reduced.tsv\", index_col=0)\n",
    "print(dat.head())\n",
    "print(dat.shape)"
   ]
  },
  {
   "cell_type": "code",
   "execution_count": 13,
   "metadata": {},
   "outputs": [],
   "source": [
    "# applying a custom function\n",
    "def expressionFilter(rowVal, minExpr=10, minSample=5):\n",
    "    mask=rowVal>=minExpr # creates a mask to check for minexpression\n",
    "    return sum(mask)>=minSample # return True if at least minsample samples satidfy the filter"
   ]
  },
  {
   "cell_type": "code",
   "execution_count": 14,
   "metadata": {},
   "outputs": [
    {
     "name": "stdout",
     "output_type": "stream",
     "text": [
      "True     333\n",
      "False     16\n",
      "Name: count, dtype: int64\n"
     ]
    }
   ],
   "source": [
    "expressionFilterMask=dat.apply(expressionFilter, axis=1) # axis=1, means it is applied for each row. axis=0 would apply it to each column\n",
    "print(expressionFilterMask.value_counts())"
   ]
  },
  {
   "cell_type": "code",
   "execution_count": 15,
   "metadata": {},
   "outputs": [
    {
     "name": "stdout",
     "output_type": "stream",
     "text": [
      "Heart_WT_1    6.955806\n",
      "Heart_WT_2    6.966364\n",
      "Heart_WT_3    6.933558\n",
      "Heart_WT_4    6.958315\n",
      "Heart_KO_1    6.986187\n",
      "Heart_KO_2    6.928704\n",
      "Heart_KO_3    6.937114\n",
      "Heart_KO_4    6.961720\n",
      "dtype: float64\n"
     ]
    }
   ],
   "source": [
    "# next apply a custom function to each column\n",
    "import numpy as np\n",
    "\n",
    "def calculate_mean_log(iterable):\n",
    "    return np.average(np.log(iterable))\n",
    "\n",
    "#apply this along columns\n",
    "meanlogexpression=dat.apply(calculate_mean_log, axis=0)\n",
    "print(meanlogexpression)"
   ]
  },
  {
   "cell_type": "code",
   "execution_count": 16,
   "metadata": {},
   "outputs": [
    {
     "data": {
      "text/plain": [
       "gene_id\n",
       "1415670_at      1214.4470\n",
       "1415671_at      3490.0980\n",
       "1415672_at      4510.3690\n",
       "1415673_at       598.8334\n",
       "1415674_a_at    1400.3250\n",
       "Name: Heart_WT_1, dtype: float64"
      ]
     },
     "execution_count": 16,
     "metadata": {},
     "output_type": "execute_result"
    }
   ],
   "source": [
    "dat['Heart_WT_1'].head()"
   ]
  },
  {
   "cell_type": "code",
   "execution_count": 17,
   "metadata": {},
   "outputs": [
    {
     "name": "stdout",
     "output_type": "stream",
     "text": [
      "gene_id\n",
      "1415670_at      1.214447\n",
      "1415671_at      3.490098\n",
      "1415672_at      4.510369\n",
      "1415673_at      0.598833\n",
      "1415674_a_at    1.400325\n",
      "Name: Heart_WT_1, dtype: float64\n"
     ]
    }
   ],
   "source": [
    "print(dat['Heart_WT_1'].head()/1000)"
   ]
  },
  {
   "cell_type": "markdown",
   "metadata": {},
   "source": [
    "perform operations on several columns"
   ]
  },
  {
   "cell_type": "code",
   "execution_count": 18,
   "metadata": {},
   "outputs": [
    {
     "name": "stdout",
     "output_type": "stream",
     "text": [
      "gene_id\n",
      "1415670_at      1198.45550\n",
      "1415671_at      3186.44100\n",
      "1415672_at      4401.21300\n",
      "1415673_at       491.92560\n",
      "1415674_a_at    1364.31000\n",
      "                   ...    \n",
      "1416014_at      1254.45500\n",
      "1416015_s_at    2057.40250\n",
      "1416016_at       348.10085\n",
      "1416017_at       579.67175\n",
      "1416018_at      1330.89700\n",
      "Length: 349, dtype: float64\n",
      "4676.56708867192\n"
     ]
    }
   ],
   "source": [
    "avg=(dat['Heart_WT_1'] + dat['Heart_WT_2'])/2\n",
    "print(avg)\n",
    "print( avg.mean() )"
   ]
  },
  {
   "cell_type": "code",
   "execution_count": null,
   "metadata": {},
   "outputs": [],
   "source": [
    "meanExpressionWT= (dat['Heart_WT_1']+dat['Heart_WT_2']+dat['Heart_WT_3']+dat['Heart_WT_4'])/4\n",
    "print(meanExpressionWT)\n",
    "print(meanExpressionWT.mean())"
   ]
  },
  {
   "cell_type": "code",
   "execution_count": null,
   "metadata": {},
   "outputs": [],
   "source": [
    "# add a new column to your df. just like adding a new key to a dictionary\n",
    "dat['Heart_WT_avg']=meanExpressionWT\n",
    "print(dat.head())"
   ]
  },
  {
   "cell_type": "code",
   "execution_count": null,
   "metadata": {},
   "outputs": [],
   "source": [
    "# delete a column using drop(). axis=1, drops columns and axis=0, drops rows\n",
    "# inplace=True: makes the drop function modify the DataFrame itself rather than return a copy of it without the column.\n",
    "\n",
    "dat.drop('Heart_WT_avg', axis=1, inplace=True)\n",
    "print(dat.head())"
   ]
  },
  {
   "cell_type": "code",
   "execution_count": null,
   "metadata": {},
   "outputs": [],
   "source": [
    "chol_gl=df_heart['chol']/100\n",
    "df_heart['chol_gl']=chol_gl\n",
    "print(df_heart.head())\n",
    "\n",
    "print(df_heart.loc[:,['chol','chol_gl']].describe())"
   ]
  },
  {
   "cell_type": "code",
   "execution_count": 21,
   "metadata": {},
   "outputs": [
    {
     "name": "stdout",
     "output_type": "stream",
     "text": [
      "expression filter for lowly expressed genes\n",
      "True     335\n",
      "False     14\n",
      "Name: count, dtype: int64\n"
     ]
    }
   ],
   "source": [
    "def expressionFilter(iterable , minExpr=10 , minSample=4):\n",
    "    ''' returns True is at least <minSample> have a value of at least <minExpr> in <iterable>'''\n",
    "    mask = iterable>=minExpr  # creating a mask to check for mininmum expression\n",
    "    return sum(mask)>=minSample # Return True if at least minSample samples satisfy the filter\n",
    "\n",
    "# apply the function along rows\n",
    "expressionFilterMask =  dat.apply(expressionFilter , axis=1)\n",
    "\n",
    "print('expression filter for lowly expressed genes')\n",
    "print( expressionFilterMask.value_counts() ) # we print the count of the custom mask we just created\n"
   ]
  },
  {
   "cell_type": "code",
   "execution_count": 23,
   "metadata": {},
   "outputs": [
    {
     "name": "stdout",
     "output_type": "stream",
     "text": [
      "              Heart_WT_1  Heart_WT_2  Heart_WT_3  Heart_WT_4  Heart_KO_1  \\\n",
      "gene_id                                                                    \n",
      "1415670_at     1214.4470   1182.4640   1206.2260   1196.0300   1174.6180   \n",
      "1415671_at     3490.0980   2882.7840   2650.0330   2934.8610   2723.9760   \n",
      "1415672_at     4510.3690   4292.0570   4071.0570   4275.2760   4127.9410   \n",
      "1415673_at      598.8334    385.0178    458.4872    514.2919    584.0671   \n",
      "1415674_a_at   1400.3250   1328.2950   1416.9230   1388.4180   1459.9560   \n",
      "\n",
      "              Heart_KO_2  Heart_KO_3  Heart_KO_4  \n",
      "gene_id                                           \n",
      "1415670_at     1184.4580    985.5503   1214.5400  \n",
      "1415671_at     2823.2600   2721.8840   2790.8340  \n",
      "1415672_at     4045.9900   4553.7360   4358.6350  \n",
      "1415673_at      544.3807    569.1154    323.8668  \n",
      "1415674_a_at   1462.9640   1237.2440   1797.9060  \n"
     ]
    }
   ],
   "source": [
    "dat_filtered=dat.loc[expressionFilterMask,:]\n",
    "print(dat_filtered.head())"
   ]
  },
  {
   "cell_type": "code",
   "execution_count": 24,
   "metadata": {},
   "outputs": [
    {
     "name": "stdout",
     "output_type": "stream",
     "text": [
      "Heart_WT_1    4836.696304\n",
      "Heart_WT_2    4906.362128\n",
      "Heart_WT_3    4609.446266\n",
      "Heart_WT_4    4371.035544\n",
      "Heart_KO_1    5245.642994\n",
      "dtype: float64\n"
     ]
    }
   ],
   "source": [
    "# calculate means of each column\n",
    "col_means=dat_filtered.mean(axis=0)\n",
    "print(col_means.head())"
   ]
  },
  {
   "cell_type": "code",
   "execution_count": 25,
   "metadata": {},
   "outputs": [
    {
     "name": "stdout",
     "output_type": "stream",
     "text": [
      "Heart_WT_1     9922.790015\n",
      "Heart_WT_2    10528.565141\n",
      "Heart_WT_3     9311.387936\n",
      "Heart_WT_4     8320.238000\n",
      "Heart_KO_1    11430.048742\n",
      "dtype: float64\n"
     ]
    }
   ],
   "source": [
    "# calculate the stdev of each column\n",
    "stdev_col=dat_filtered.std(axis=0)\n",
    "print(stdev_col.head())"
   ]
  },
  {
   "cell_type": "code",
   "execution_count": 26,
   "metadata": {},
   "outputs": [
    {
     "name": "stdout",
     "output_type": "stream",
     "text": [
      "              Heart_WT_1  Heart_WT_2  Heart_WT_3  Heart_WT_4  Heart_KO_1  \\\n",
      "gene_id                                                                    \n",
      "1415670_at     -0.365043   -0.353695   -0.365490   -0.381600   -0.356169   \n",
      "1415671_at     -0.135708   -0.192199   -0.210432   -0.172612   -0.220617   \n",
      "1415672_at     -0.032887   -0.058347   -0.057821   -0.011509   -0.097786   \n",
      "1415673_at     -0.427084   -0.429436   -0.445794   -0.463538   -0.407835   \n",
      "1415674_a_at   -0.346311   -0.339844   -0.342862   -0.358477   -0.331205   \n",
      "\n",
      "              Heart_KO_2  Heart_KO_3  Heart_KO_4  \n",
      "gene_id                                           \n",
      "1415670_at     -0.369123   -0.372349   -0.370651  \n",
      "1415671_at     -0.202230   -0.213680   -0.206529  \n",
      "1415672_at     -0.077708   -0.046283   -0.043291  \n",
      "1415673_at     -0.434308   -0.410403   -0.463387  \n",
      "1415674_a_at   -0.340761   -0.349349   -0.309912  \n"
     ]
    }
   ],
   "source": [
    "# centering and scaling. subtract the mean and divide by the stdev\n",
    "dat_center_scale=(dat_filtered - col_means)/stdev_col\n",
    "print(dat_center_scale.head())"
   ]
  }
 ],
 "metadata": {
  "kernelspec": {
   "display_name": "Python 3",
   "language": "python",
   "name": "python3"
  },
  "language_info": {
   "codemirror_mode": {
    "name": "ipython",
    "version": 3
   },
   "file_extension": ".py",
   "mimetype": "text/x-python",
   "name": "python",
   "nbconvert_exporter": "python",
   "pygments_lexer": "ipython3",
   "version": "3.12.0"
  }
 },
 "nbformat": 4,
 "nbformat_minor": 2
}
